{
  "nbformat": 4,
  "nbformat_minor": 0,
  "metadata": {
    "colab": {
      "name": "soraberta.ipynb",
      "provenance": []
    },
    "kernelspec": {
      "name": "python3",
      "display_name": "Python 3"
    },
    "language_info": {
      "name": "python"
    },
    "accelerator": "GPU",
    "widgets": {
      "application/vnd.jupyter.widget-state+json": {
        "79bb688e0f01485ab672242965c70c47": {
          "model_module": "@jupyter-widgets/controls",
          "model_name": "HBoxModel",
          "model_module_version": "1.5.0",
          "state": {
            "_view_name": "HBoxView",
            "_dom_classes": [],
            "_model_name": "HBoxModel",
            "_view_module": "@jupyter-widgets/controls",
            "_model_module_version": "1.5.0",
            "_view_count": null,
            "_view_module_version": "1.5.0",
            "box_style": "",
            "layout": "IPY_MODEL_9a02211d82994fb29fd2feeccbf1d389",
            "_model_module": "@jupyter-widgets/controls",
            "children": [
              "IPY_MODEL_5b1a3d413a9940e9ab10dbe9eff6e29a",
              "IPY_MODEL_b7318055ec594d3a8817e4dfbf00b549",
              "IPY_MODEL_de7ffa97941c47efad30c9a14842d2d5"
            ]
          }
        },
        "9a02211d82994fb29fd2feeccbf1d389": {
          "model_module": "@jupyter-widgets/base",
          "model_name": "LayoutModel",
          "model_module_version": "1.2.0",
          "state": {
            "_view_name": "LayoutView",
            "grid_template_rows": null,
            "right": null,
            "justify_content": null,
            "_view_module": "@jupyter-widgets/base",
            "overflow": null,
            "_model_module_version": "1.2.0",
            "_view_count": null,
            "flex_flow": null,
            "width": null,
            "min_width": null,
            "border": null,
            "align_items": null,
            "bottom": null,
            "_model_module": "@jupyter-widgets/base",
            "top": null,
            "grid_column": null,
            "overflow_y": null,
            "overflow_x": null,
            "grid_auto_flow": null,
            "grid_area": null,
            "grid_template_columns": null,
            "flex": null,
            "_model_name": "LayoutModel",
            "justify_items": null,
            "grid_row": null,
            "max_height": null,
            "align_content": null,
            "visibility": null,
            "align_self": null,
            "height": null,
            "min_height": null,
            "padding": null,
            "grid_auto_rows": null,
            "grid_gap": null,
            "max_width": null,
            "order": null,
            "_view_module_version": "1.2.0",
            "grid_template_areas": null,
            "object_position": null,
            "object_fit": null,
            "grid_auto_columns": null,
            "margin": null,
            "display": null,
            "left": null
          }
        },
        "5b1a3d413a9940e9ab10dbe9eff6e29a": {
          "model_module": "@jupyter-widgets/controls",
          "model_name": "HTMLModel",
          "model_module_version": "1.5.0",
          "state": {
            "_view_name": "HTMLView",
            "style": "IPY_MODEL_adfd9d4b90784aae9f6ff5364a04ef59",
            "_dom_classes": [],
            "description": "",
            "_model_name": "HTMLModel",
            "placeholder": "​",
            "_view_module": "@jupyter-widgets/controls",
            "_model_module_version": "1.5.0",
            "value": "Downloading: 100%",
            "_view_count": null,
            "_view_module_version": "1.5.0",
            "description_tooltip": null,
            "_model_module": "@jupyter-widgets/controls",
            "layout": "IPY_MODEL_06d26ac2d936417d8e3e91d2e3a5a073"
          }
        },
        "b7318055ec594d3a8817e4dfbf00b549": {
          "model_module": "@jupyter-widgets/controls",
          "model_name": "FloatProgressModel",
          "model_module_version": "1.5.0",
          "state": {
            "_view_name": "ProgressView",
            "style": "IPY_MODEL_d0d1f60b00a544c69d368177da3198cd",
            "_dom_classes": [],
            "description": "",
            "_model_name": "FloatProgressModel",
            "bar_style": "success",
            "max": 676,
            "_view_module": "@jupyter-widgets/controls",
            "_model_module_version": "1.5.0",
            "value": 676,
            "_view_count": null,
            "_view_module_version": "1.5.0",
            "orientation": "horizontal",
            "min": 0,
            "description_tooltip": null,
            "_model_module": "@jupyter-widgets/controls",
            "layout": "IPY_MODEL_03a8fa59e02d4d128f0966c2d02b916c"
          }
        },
        "de7ffa97941c47efad30c9a14842d2d5": {
          "model_module": "@jupyter-widgets/controls",
          "model_name": "HTMLModel",
          "model_module_version": "1.5.0",
          "state": {
            "_view_name": "HTMLView",
            "style": "IPY_MODEL_c47cf72c968b45d3911da8ffc7dc8a76",
            "_dom_classes": [],
            "description": "",
            "_model_name": "HTMLModel",
            "placeholder": "​",
            "_view_module": "@jupyter-widgets/controls",
            "_model_module_version": "1.5.0",
            "value": " 676/676 [00:00&lt;00:00, 12.7kB/s]",
            "_view_count": null,
            "_view_module_version": "1.5.0",
            "description_tooltip": null,
            "_model_module": "@jupyter-widgets/controls",
            "layout": "IPY_MODEL_83438b687c0443c5897b05eb03a79195"
          }
        },
        "adfd9d4b90784aae9f6ff5364a04ef59": {
          "model_module": "@jupyter-widgets/controls",
          "model_name": "DescriptionStyleModel",
          "model_module_version": "1.5.0",
          "state": {
            "_view_name": "StyleView",
            "_model_name": "DescriptionStyleModel",
            "description_width": "",
            "_view_module": "@jupyter-widgets/base",
            "_model_module_version": "1.5.0",
            "_view_count": null,
            "_view_module_version": "1.2.0",
            "_model_module": "@jupyter-widgets/controls"
          }
        },
        "06d26ac2d936417d8e3e91d2e3a5a073": {
          "model_module": "@jupyter-widgets/base",
          "model_name": "LayoutModel",
          "model_module_version": "1.2.0",
          "state": {
            "_view_name": "LayoutView",
            "grid_template_rows": null,
            "right": null,
            "justify_content": null,
            "_view_module": "@jupyter-widgets/base",
            "overflow": null,
            "_model_module_version": "1.2.0",
            "_view_count": null,
            "flex_flow": null,
            "width": null,
            "min_width": null,
            "border": null,
            "align_items": null,
            "bottom": null,
            "_model_module": "@jupyter-widgets/base",
            "top": null,
            "grid_column": null,
            "overflow_y": null,
            "overflow_x": null,
            "grid_auto_flow": null,
            "grid_area": null,
            "grid_template_columns": null,
            "flex": null,
            "_model_name": "LayoutModel",
            "justify_items": null,
            "grid_row": null,
            "max_height": null,
            "align_content": null,
            "visibility": null,
            "align_self": null,
            "height": null,
            "min_height": null,
            "padding": null,
            "grid_auto_rows": null,
            "grid_gap": null,
            "max_width": null,
            "order": null,
            "_view_module_version": "1.2.0",
            "grid_template_areas": null,
            "object_position": null,
            "object_fit": null,
            "grid_auto_columns": null,
            "margin": null,
            "display": null,
            "left": null
          }
        },
        "d0d1f60b00a544c69d368177da3198cd": {
          "model_module": "@jupyter-widgets/controls",
          "model_name": "ProgressStyleModel",
          "model_module_version": "1.5.0",
          "state": {
            "_view_name": "StyleView",
            "_model_name": "ProgressStyleModel",
            "description_width": "",
            "_view_module": "@jupyter-widgets/base",
            "_model_module_version": "1.5.0",
            "_view_count": null,
            "_view_module_version": "1.2.0",
            "bar_color": null,
            "_model_module": "@jupyter-widgets/controls"
          }
        },
        "03a8fa59e02d4d128f0966c2d02b916c": {
          "model_module": "@jupyter-widgets/base",
          "model_name": "LayoutModel",
          "model_module_version": "1.2.0",
          "state": {
            "_view_name": "LayoutView",
            "grid_template_rows": null,
            "right": null,
            "justify_content": null,
            "_view_module": "@jupyter-widgets/base",
            "overflow": null,
            "_model_module_version": "1.2.0",
            "_view_count": null,
            "flex_flow": null,
            "width": null,
            "min_width": null,
            "border": null,
            "align_items": null,
            "bottom": null,
            "_model_module": "@jupyter-widgets/base",
            "top": null,
            "grid_column": null,
            "overflow_y": null,
            "overflow_x": null,
            "grid_auto_flow": null,
            "grid_area": null,
            "grid_template_columns": null,
            "flex": null,
            "_model_name": "LayoutModel",
            "justify_items": null,
            "grid_row": null,
            "max_height": null,
            "align_content": null,
            "visibility": null,
            "align_self": null,
            "height": null,
            "min_height": null,
            "padding": null,
            "grid_auto_rows": null,
            "grid_gap": null,
            "max_width": null,
            "order": null,
            "_view_module_version": "1.2.0",
            "grid_template_areas": null,
            "object_position": null,
            "object_fit": null,
            "grid_auto_columns": null,
            "margin": null,
            "display": null,
            "left": null
          }
        },
        "c47cf72c968b45d3911da8ffc7dc8a76": {
          "model_module": "@jupyter-widgets/controls",
          "model_name": "DescriptionStyleModel",
          "model_module_version": "1.5.0",
          "state": {
            "_view_name": "StyleView",
            "_model_name": "DescriptionStyleModel",
            "description_width": "",
            "_view_module": "@jupyter-widgets/base",
            "_model_module_version": "1.5.0",
            "_view_count": null,
            "_view_module_version": "1.2.0",
            "_model_module": "@jupyter-widgets/controls"
          }
        },
        "83438b687c0443c5897b05eb03a79195": {
          "model_module": "@jupyter-widgets/base",
          "model_name": "LayoutModel",
          "model_module_version": "1.2.0",
          "state": {
            "_view_name": "LayoutView",
            "grid_template_rows": null,
            "right": null,
            "justify_content": null,
            "_view_module": "@jupyter-widgets/base",
            "overflow": null,
            "_model_module_version": "1.2.0",
            "_view_count": null,
            "flex_flow": null,
            "width": null,
            "min_width": null,
            "border": null,
            "align_items": null,
            "bottom": null,
            "_model_module": "@jupyter-widgets/base",
            "top": null,
            "grid_column": null,
            "overflow_y": null,
            "overflow_x": null,
            "grid_auto_flow": null,
            "grid_area": null,
            "grid_template_columns": null,
            "flex": null,
            "_model_name": "LayoutModel",
            "justify_items": null,
            "grid_row": null,
            "max_height": null,
            "align_content": null,
            "visibility": null,
            "align_self": null,
            "height": null,
            "min_height": null,
            "padding": null,
            "grid_auto_rows": null,
            "grid_gap": null,
            "max_width": null,
            "order": null,
            "_view_module_version": "1.2.0",
            "grid_template_areas": null,
            "object_position": null,
            "object_fit": null,
            "grid_auto_columns": null,
            "margin": null,
            "display": null,
            "left": null
          }
        },
        "18e5cfbba59644788b628ff10c3d0684": {
          "model_module": "@jupyter-widgets/controls",
          "model_name": "HBoxModel",
          "model_module_version": "1.5.0",
          "state": {
            "_view_name": "HBoxView",
            "_dom_classes": [],
            "_model_name": "HBoxModel",
            "_view_module": "@jupyter-widgets/controls",
            "_model_module_version": "1.5.0",
            "_view_count": null,
            "_view_module_version": "1.5.0",
            "box_style": "",
            "layout": "IPY_MODEL_db53e35438594880b2dbeed4efc39b37",
            "_model_module": "@jupyter-widgets/controls",
            "children": [
              "IPY_MODEL_b2de1c5d8de643d78b49306264d69c96",
              "IPY_MODEL_16ff2d9fc0f84e6dbf707df646822f46",
              "IPY_MODEL_300d0ffd16904654bee4d777fe951a7d"
            ]
          }
        },
        "db53e35438594880b2dbeed4efc39b37": {
          "model_module": "@jupyter-widgets/base",
          "model_name": "LayoutModel",
          "model_module_version": "1.2.0",
          "state": {
            "_view_name": "LayoutView",
            "grid_template_rows": null,
            "right": null,
            "justify_content": null,
            "_view_module": "@jupyter-widgets/base",
            "overflow": null,
            "_model_module_version": "1.2.0",
            "_view_count": null,
            "flex_flow": null,
            "width": null,
            "min_width": null,
            "border": null,
            "align_items": null,
            "bottom": null,
            "_model_module": "@jupyter-widgets/base",
            "top": null,
            "grid_column": null,
            "overflow_y": null,
            "overflow_x": null,
            "grid_auto_flow": null,
            "grid_area": null,
            "grid_template_columns": null,
            "flex": null,
            "_model_name": "LayoutModel",
            "justify_items": null,
            "grid_row": null,
            "max_height": null,
            "align_content": null,
            "visibility": null,
            "align_self": null,
            "height": null,
            "min_height": null,
            "padding": null,
            "grid_auto_rows": null,
            "grid_gap": null,
            "max_width": null,
            "order": null,
            "_view_module_version": "1.2.0",
            "grid_template_areas": null,
            "object_position": null,
            "object_fit": null,
            "grid_auto_columns": null,
            "margin": null,
            "display": null,
            "left": null
          }
        },
        "b2de1c5d8de643d78b49306264d69c96": {
          "model_module": "@jupyter-widgets/controls",
          "model_name": "HTMLModel",
          "model_module_version": "1.5.0",
          "state": {
            "_view_name": "HTMLView",
            "style": "IPY_MODEL_8680146ab3f3480a8dcf0dc7e61c3922",
            "_dom_classes": [],
            "description": "",
            "_model_name": "HTMLModel",
            "placeholder": "​",
            "_view_module": "@jupyter-widgets/controls",
            "_model_module_version": "1.5.0",
            "value": "Downloading: 100%",
            "_view_count": null,
            "_view_module_version": "1.5.0",
            "description_tooltip": null,
            "_model_module": "@jupyter-widgets/controls",
            "layout": "IPY_MODEL_8660a4c881c44517b0e0565979e42ef6"
          }
        },
        "16ff2d9fc0f84e6dbf707df646822f46": {
          "model_module": "@jupyter-widgets/controls",
          "model_name": "FloatProgressModel",
          "model_module_version": "1.5.0",
          "state": {
            "_view_name": "ProgressView",
            "style": "IPY_MODEL_a205f8639c2b4881a466dd3bf7d2e990",
            "_dom_classes": [],
            "description": "",
            "_model_name": "FloatProgressModel",
            "bar_style": "success",
            "max": 334060082,
            "_view_module": "@jupyter-widgets/controls",
            "_model_module_version": "1.5.0",
            "value": 334060082,
            "_view_count": null,
            "_view_module_version": "1.5.0",
            "orientation": "horizontal",
            "min": 0,
            "description_tooltip": null,
            "_model_module": "@jupyter-widgets/controls",
            "layout": "IPY_MODEL_513f1f2a061e4dc297618b2f2055897a"
          }
        },
        "300d0ffd16904654bee4d777fe951a7d": {
          "model_module": "@jupyter-widgets/controls",
          "model_name": "HTMLModel",
          "model_module_version": "1.5.0",
          "state": {
            "_view_name": "HTMLView",
            "style": "IPY_MODEL_1575d2073335460b8a480a40be8e6593",
            "_dom_classes": [],
            "description": "",
            "_model_name": "HTMLModel",
            "placeholder": "​",
            "_view_module": "@jupyter-widgets/controls",
            "_model_module_version": "1.5.0",
            "value": " 334M/334M [00:10&lt;00:00, 33.8MB/s]",
            "_view_count": null,
            "_view_module_version": "1.5.0",
            "description_tooltip": null,
            "_model_module": "@jupyter-widgets/controls",
            "layout": "IPY_MODEL_4a70c08d7c9042a8a92c94dd86bb8fce"
          }
        },
        "8680146ab3f3480a8dcf0dc7e61c3922": {
          "model_module": "@jupyter-widgets/controls",
          "model_name": "DescriptionStyleModel",
          "model_module_version": "1.5.0",
          "state": {
            "_view_name": "StyleView",
            "_model_name": "DescriptionStyleModel",
            "description_width": "",
            "_view_module": "@jupyter-widgets/base",
            "_model_module_version": "1.5.0",
            "_view_count": null,
            "_view_module_version": "1.2.0",
            "_model_module": "@jupyter-widgets/controls"
          }
        },
        "8660a4c881c44517b0e0565979e42ef6": {
          "model_module": "@jupyter-widgets/base",
          "model_name": "LayoutModel",
          "model_module_version": "1.2.0",
          "state": {
            "_view_name": "LayoutView",
            "grid_template_rows": null,
            "right": null,
            "justify_content": null,
            "_view_module": "@jupyter-widgets/base",
            "overflow": null,
            "_model_module_version": "1.2.0",
            "_view_count": null,
            "flex_flow": null,
            "width": null,
            "min_width": null,
            "border": null,
            "align_items": null,
            "bottom": null,
            "_model_module": "@jupyter-widgets/base",
            "top": null,
            "grid_column": null,
            "overflow_y": null,
            "overflow_x": null,
            "grid_auto_flow": null,
            "grid_area": null,
            "grid_template_columns": null,
            "flex": null,
            "_model_name": "LayoutModel",
            "justify_items": null,
            "grid_row": null,
            "max_height": null,
            "align_content": null,
            "visibility": null,
            "align_self": null,
            "height": null,
            "min_height": null,
            "padding": null,
            "grid_auto_rows": null,
            "grid_gap": null,
            "max_width": null,
            "order": null,
            "_view_module_version": "1.2.0",
            "grid_template_areas": null,
            "object_position": null,
            "object_fit": null,
            "grid_auto_columns": null,
            "margin": null,
            "display": null,
            "left": null
          }
        },
        "a205f8639c2b4881a466dd3bf7d2e990": {
          "model_module": "@jupyter-widgets/controls",
          "model_name": "ProgressStyleModel",
          "model_module_version": "1.5.0",
          "state": {
            "_view_name": "StyleView",
            "_model_name": "ProgressStyleModel",
            "description_width": "",
            "_view_module": "@jupyter-widgets/base",
            "_model_module_version": "1.5.0",
            "_view_count": null,
            "_view_module_version": "1.2.0",
            "bar_color": null,
            "_model_module": "@jupyter-widgets/controls"
          }
        },
        "513f1f2a061e4dc297618b2f2055897a": {
          "model_module": "@jupyter-widgets/base",
          "model_name": "LayoutModel",
          "model_module_version": "1.2.0",
          "state": {
            "_view_name": "LayoutView",
            "grid_template_rows": null,
            "right": null,
            "justify_content": null,
            "_view_module": "@jupyter-widgets/base",
            "overflow": null,
            "_model_module_version": "1.2.0",
            "_view_count": null,
            "flex_flow": null,
            "width": null,
            "min_width": null,
            "border": null,
            "align_items": null,
            "bottom": null,
            "_model_module": "@jupyter-widgets/base",
            "top": null,
            "grid_column": null,
            "overflow_y": null,
            "overflow_x": null,
            "grid_auto_flow": null,
            "grid_area": null,
            "grid_template_columns": null,
            "flex": null,
            "_model_name": "LayoutModel",
            "justify_items": null,
            "grid_row": null,
            "max_height": null,
            "align_content": null,
            "visibility": null,
            "align_self": null,
            "height": null,
            "min_height": null,
            "padding": null,
            "grid_auto_rows": null,
            "grid_gap": null,
            "max_width": null,
            "order": null,
            "_view_module_version": "1.2.0",
            "grid_template_areas": null,
            "object_position": null,
            "object_fit": null,
            "grid_auto_columns": null,
            "margin": null,
            "display": null,
            "left": null
          }
        },
        "1575d2073335460b8a480a40be8e6593": {
          "model_module": "@jupyter-widgets/controls",
          "model_name": "DescriptionStyleModel",
          "model_module_version": "1.5.0",
          "state": {
            "_view_name": "StyleView",
            "_model_name": "DescriptionStyleModel",
            "description_width": "",
            "_view_module": "@jupyter-widgets/base",
            "_model_module_version": "1.5.0",
            "_view_count": null,
            "_view_module_version": "1.2.0",
            "_model_module": "@jupyter-widgets/controls"
          }
        },
        "4a70c08d7c9042a8a92c94dd86bb8fce": {
          "model_module": "@jupyter-widgets/base",
          "model_name": "LayoutModel",
          "model_module_version": "1.2.0",
          "state": {
            "_view_name": "LayoutView",
            "grid_template_rows": null,
            "right": null,
            "justify_content": null,
            "_view_module": "@jupyter-widgets/base",
            "overflow": null,
            "_model_module_version": "1.2.0",
            "_view_count": null,
            "flex_flow": null,
            "width": null,
            "min_width": null,
            "border": null,
            "align_items": null,
            "bottom": null,
            "_model_module": "@jupyter-widgets/base",
            "top": null,
            "grid_column": null,
            "overflow_y": null,
            "overflow_x": null,
            "grid_auto_flow": null,
            "grid_area": null,
            "grid_template_columns": null,
            "flex": null,
            "_model_name": "LayoutModel",
            "justify_items": null,
            "grid_row": null,
            "max_height": null,
            "align_content": null,
            "visibility": null,
            "align_self": null,
            "height": null,
            "min_height": null,
            "padding": null,
            "grid_auto_rows": null,
            "grid_gap": null,
            "max_width": null,
            "order": null,
            "_view_module_version": "1.2.0",
            "grid_template_areas": null,
            "object_position": null,
            "object_fit": null,
            "grid_auto_columns": null,
            "margin": null,
            "display": null,
            "left": null
          }
        },
        "b5e88005bc9a4592ac27951f603f4077": {
          "model_module": "@jupyter-widgets/controls",
          "model_name": "HBoxModel",
          "model_module_version": "1.5.0",
          "state": {
            "_view_name": "HBoxView",
            "_dom_classes": [],
            "_model_name": "HBoxModel",
            "_view_module": "@jupyter-widgets/controls",
            "_model_module_version": "1.5.0",
            "_view_count": null,
            "_view_module_version": "1.5.0",
            "box_style": "",
            "layout": "IPY_MODEL_d572778157174d5fbe33a0f81e4811fc",
            "_model_module": "@jupyter-widgets/controls",
            "children": [
              "IPY_MODEL_84dd45960f604e469950be4ede82b8a9",
              "IPY_MODEL_029a4a29a02447d7a36f65e0144fdc5b",
              "IPY_MODEL_ecbf641807374afc8dbd082908f4cdf8"
            ]
          }
        },
        "d572778157174d5fbe33a0f81e4811fc": {
          "model_module": "@jupyter-widgets/base",
          "model_name": "LayoutModel",
          "model_module_version": "1.2.0",
          "state": {
            "_view_name": "LayoutView",
            "grid_template_rows": null,
            "right": null,
            "justify_content": null,
            "_view_module": "@jupyter-widgets/base",
            "overflow": null,
            "_model_module_version": "1.2.0",
            "_view_count": null,
            "flex_flow": null,
            "width": null,
            "min_width": null,
            "border": null,
            "align_items": null,
            "bottom": null,
            "_model_module": "@jupyter-widgets/base",
            "top": null,
            "grid_column": null,
            "overflow_y": null,
            "overflow_x": null,
            "grid_auto_flow": null,
            "grid_area": null,
            "grid_template_columns": null,
            "flex": null,
            "_model_name": "LayoutModel",
            "justify_items": null,
            "grid_row": null,
            "max_height": null,
            "align_content": null,
            "visibility": null,
            "align_self": null,
            "height": null,
            "min_height": null,
            "padding": null,
            "grid_auto_rows": null,
            "grid_gap": null,
            "max_width": null,
            "order": null,
            "_view_module_version": "1.2.0",
            "grid_template_areas": null,
            "object_position": null,
            "object_fit": null,
            "grid_auto_columns": null,
            "margin": null,
            "display": null,
            "left": null
          }
        },
        "84dd45960f604e469950be4ede82b8a9": {
          "model_module": "@jupyter-widgets/controls",
          "model_name": "HTMLModel",
          "model_module_version": "1.5.0",
          "state": {
            "_view_name": "HTMLView",
            "style": "IPY_MODEL_e5cec58ba78b4dcd92b1c145c93c7527",
            "_dom_classes": [],
            "description": "",
            "_model_name": "HTMLModel",
            "placeholder": "​",
            "_view_module": "@jupyter-widgets/controls",
            "_model_module_version": "1.5.0",
            "value": "Downloading: 100%",
            "_view_count": null,
            "_view_module_version": "1.5.0",
            "description_tooltip": null,
            "_model_module": "@jupyter-widgets/controls",
            "layout": "IPY_MODEL_baf2d68e46f74cf98098fbffff358608"
          }
        },
        "029a4a29a02447d7a36f65e0144fdc5b": {
          "model_module": "@jupyter-widgets/controls",
          "model_name": "FloatProgressModel",
          "model_module_version": "1.5.0",
          "state": {
            "_view_name": "ProgressView",
            "style": "IPY_MODEL_c3eac164001645bc9e227b483467557f",
            "_dom_classes": [],
            "description": "",
            "_model_name": "FloatProgressModel",
            "bar_style": "success",
            "max": 192216,
            "_view_module": "@jupyter-widgets/controls",
            "_model_module_version": "1.5.0",
            "value": 192216,
            "_view_count": null,
            "_view_module_version": "1.5.0",
            "orientation": "horizontal",
            "min": 0,
            "description_tooltip": null,
            "_model_module": "@jupyter-widgets/controls",
            "layout": "IPY_MODEL_0726e2de754f4fb19a14af7dae95615a"
          }
        },
        "ecbf641807374afc8dbd082908f4cdf8": {
          "model_module": "@jupyter-widgets/controls",
          "model_name": "HTMLModel",
          "model_module_version": "1.5.0",
          "state": {
            "_view_name": "HTMLView",
            "style": "IPY_MODEL_190756a209e047608f33de2de401aad9",
            "_dom_classes": [],
            "description": "",
            "_model_name": "HTMLModel",
            "placeholder": "​",
            "_view_module": "@jupyter-widgets/controls",
            "_model_module_version": "1.5.0",
            "value": " 192k/192k [00:00&lt;00:00, 415kB/s]",
            "_view_count": null,
            "_view_module_version": "1.5.0",
            "description_tooltip": null,
            "_model_module": "@jupyter-widgets/controls",
            "layout": "IPY_MODEL_926a3e2e646547a5bc5392a2041a6ac2"
          }
        },
        "e5cec58ba78b4dcd92b1c145c93c7527": {
          "model_module": "@jupyter-widgets/controls",
          "model_name": "DescriptionStyleModel",
          "model_module_version": "1.5.0",
          "state": {
            "_view_name": "StyleView",
            "_model_name": "DescriptionStyleModel",
            "description_width": "",
            "_view_module": "@jupyter-widgets/base",
            "_model_module_version": "1.5.0",
            "_view_count": null,
            "_view_module_version": "1.2.0",
            "_model_module": "@jupyter-widgets/controls"
          }
        },
        "baf2d68e46f74cf98098fbffff358608": {
          "model_module": "@jupyter-widgets/base",
          "model_name": "LayoutModel",
          "model_module_version": "1.2.0",
          "state": {
            "_view_name": "LayoutView",
            "grid_template_rows": null,
            "right": null,
            "justify_content": null,
            "_view_module": "@jupyter-widgets/base",
            "overflow": null,
            "_model_module_version": "1.2.0",
            "_view_count": null,
            "flex_flow": null,
            "width": null,
            "min_width": null,
            "border": null,
            "align_items": null,
            "bottom": null,
            "_model_module": "@jupyter-widgets/base",
            "top": null,
            "grid_column": null,
            "overflow_y": null,
            "overflow_x": null,
            "grid_auto_flow": null,
            "grid_area": null,
            "grid_template_columns": null,
            "flex": null,
            "_model_name": "LayoutModel",
            "justify_items": null,
            "grid_row": null,
            "max_height": null,
            "align_content": null,
            "visibility": null,
            "align_self": null,
            "height": null,
            "min_height": null,
            "padding": null,
            "grid_auto_rows": null,
            "grid_gap": null,
            "max_width": null,
            "order": null,
            "_view_module_version": "1.2.0",
            "grid_template_areas": null,
            "object_position": null,
            "object_fit": null,
            "grid_auto_columns": null,
            "margin": null,
            "display": null,
            "left": null
          }
        },
        "c3eac164001645bc9e227b483467557f": {
          "model_module": "@jupyter-widgets/controls",
          "model_name": "ProgressStyleModel",
          "model_module_version": "1.5.0",
          "state": {
            "_view_name": "StyleView",
            "_model_name": "ProgressStyleModel",
            "description_width": "",
            "_view_module": "@jupyter-widgets/base",
            "_model_module_version": "1.5.0",
            "_view_count": null,
            "_view_module_version": "1.2.0",
            "bar_color": null,
            "_model_module": "@jupyter-widgets/controls"
          }
        },
        "0726e2de754f4fb19a14af7dae95615a": {
          "model_module": "@jupyter-widgets/base",
          "model_name": "LayoutModel",
          "model_module_version": "1.2.0",
          "state": {
            "_view_name": "LayoutView",
            "grid_template_rows": null,
            "right": null,
            "justify_content": null,
            "_view_module": "@jupyter-widgets/base",
            "overflow": null,
            "_model_module_version": "1.2.0",
            "_view_count": null,
            "flex_flow": null,
            "width": null,
            "min_width": null,
            "border": null,
            "align_items": null,
            "bottom": null,
            "_model_module": "@jupyter-widgets/base",
            "top": null,
            "grid_column": null,
            "overflow_y": null,
            "overflow_x": null,
            "grid_auto_flow": null,
            "grid_area": null,
            "grid_template_columns": null,
            "flex": null,
            "_model_name": "LayoutModel",
            "justify_items": null,
            "grid_row": null,
            "max_height": null,
            "align_content": null,
            "visibility": null,
            "align_self": null,
            "height": null,
            "min_height": null,
            "padding": null,
            "grid_auto_rows": null,
            "grid_gap": null,
            "max_width": null,
            "order": null,
            "_view_module_version": "1.2.0",
            "grid_template_areas": null,
            "object_position": null,
            "object_fit": null,
            "grid_auto_columns": null,
            "margin": null,
            "display": null,
            "left": null
          }
        },
        "190756a209e047608f33de2de401aad9": {
          "model_module": "@jupyter-widgets/controls",
          "model_name": "DescriptionStyleModel",
          "model_module_version": "1.5.0",
          "state": {
            "_view_name": "StyleView",
            "_model_name": "DescriptionStyleModel",
            "description_width": "",
            "_view_module": "@jupyter-widgets/base",
            "_model_module_version": "1.5.0",
            "_view_count": null,
            "_view_module_version": "1.2.0",
            "_model_module": "@jupyter-widgets/controls"
          }
        },
        "926a3e2e646547a5bc5392a2041a6ac2": {
          "model_module": "@jupyter-widgets/base",
          "model_name": "LayoutModel",
          "model_module_version": "1.2.0",
          "state": {
            "_view_name": "LayoutView",
            "grid_template_rows": null,
            "right": null,
            "justify_content": null,
            "_view_module": "@jupyter-widgets/base",
            "overflow": null,
            "_model_module_version": "1.2.0",
            "_view_count": null,
            "flex_flow": null,
            "width": null,
            "min_width": null,
            "border": null,
            "align_items": null,
            "bottom": null,
            "_model_module": "@jupyter-widgets/base",
            "top": null,
            "grid_column": null,
            "overflow_y": null,
            "overflow_x": null,
            "grid_auto_flow": null,
            "grid_area": null,
            "grid_template_columns": null,
            "flex": null,
            "_model_name": "LayoutModel",
            "justify_items": null,
            "grid_row": null,
            "max_height": null,
            "align_content": null,
            "visibility": null,
            "align_self": null,
            "height": null,
            "min_height": null,
            "padding": null,
            "grid_auto_rows": null,
            "grid_gap": null,
            "max_width": null,
            "order": null,
            "_view_module_version": "1.2.0",
            "grid_template_areas": null,
            "object_position": null,
            "object_fit": null,
            "grid_auto_columns": null,
            "margin": null,
            "display": null,
            "left": null
          }
        },
        "48b27e50648e42cfadbcc8dce3d882f4": {
          "model_module": "@jupyter-widgets/controls",
          "model_name": "HBoxModel",
          "model_module_version": "1.5.0",
          "state": {
            "_view_name": "HBoxView",
            "_dom_classes": [],
            "_model_name": "HBoxModel",
            "_view_module": "@jupyter-widgets/controls",
            "_model_module_version": "1.5.0",
            "_view_count": null,
            "_view_module_version": "1.5.0",
            "box_style": "",
            "layout": "IPY_MODEL_f693f0ed045142449d6a27621b342727",
            "_model_module": "@jupyter-widgets/controls",
            "children": [
              "IPY_MODEL_a194e730d7ae4c4fa9550d90d21aa280",
              "IPY_MODEL_8912887509db48a0b3787685719a2a8f",
              "IPY_MODEL_8062840158a54d0dae35dd79175d63a8"
            ]
          }
        },
        "f693f0ed045142449d6a27621b342727": {
          "model_module": "@jupyter-widgets/base",
          "model_name": "LayoutModel",
          "model_module_version": "1.2.0",
          "state": {
            "_view_name": "LayoutView",
            "grid_template_rows": null,
            "right": null,
            "justify_content": null,
            "_view_module": "@jupyter-widgets/base",
            "overflow": null,
            "_model_module_version": "1.2.0",
            "_view_count": null,
            "flex_flow": null,
            "width": null,
            "min_width": null,
            "border": null,
            "align_items": null,
            "bottom": null,
            "_model_module": "@jupyter-widgets/base",
            "top": null,
            "grid_column": null,
            "overflow_y": null,
            "overflow_x": null,
            "grid_auto_flow": null,
            "grid_area": null,
            "grid_template_columns": null,
            "flex": null,
            "_model_name": "LayoutModel",
            "justify_items": null,
            "grid_row": null,
            "max_height": null,
            "align_content": null,
            "visibility": null,
            "align_self": null,
            "height": null,
            "min_height": null,
            "padding": null,
            "grid_auto_rows": null,
            "grid_gap": null,
            "max_width": null,
            "order": null,
            "_view_module_version": "1.2.0",
            "grid_template_areas": null,
            "object_position": null,
            "object_fit": null,
            "grid_auto_columns": null,
            "margin": null,
            "display": null,
            "left": null
          }
        },
        "a194e730d7ae4c4fa9550d90d21aa280": {
          "model_module": "@jupyter-widgets/controls",
          "model_name": "HTMLModel",
          "model_module_version": "1.5.0",
          "state": {
            "_view_name": "HTMLView",
            "style": "IPY_MODEL_f7076829c8374e9caf55f37e0020efcf",
            "_dom_classes": [],
            "description": "",
            "_model_name": "HTMLModel",
            "placeholder": "​",
            "_view_module": "@jupyter-widgets/controls",
            "_model_module_version": "1.5.0",
            "value": "Downloading: 100%",
            "_view_count": null,
            "_view_module_version": "1.5.0",
            "description_tooltip": null,
            "_model_module": "@jupyter-widgets/controls",
            "layout": "IPY_MODEL_c51dc9b1056a4ce0994e6c95fefddaad"
          }
        },
        "8912887509db48a0b3787685719a2a8f": {
          "model_module": "@jupyter-widgets/controls",
          "model_name": "FloatProgressModel",
          "model_module_version": "1.5.0",
          "state": {
            "_view_name": "ProgressView",
            "style": "IPY_MODEL_e74310e3cff74729aa6086e1e4ad7b15",
            "_dom_classes": [],
            "description": "",
            "_model_name": "FloatProgressModel",
            "bar_style": "success",
            "max": 111559,
            "_view_module": "@jupyter-widgets/controls",
            "_model_module_version": "1.5.0",
            "value": 111559,
            "_view_count": null,
            "_view_module_version": "1.5.0",
            "orientation": "horizontal",
            "min": 0,
            "description_tooltip": null,
            "_model_module": "@jupyter-widgets/controls",
            "layout": "IPY_MODEL_726092354f4a40c8972f565c9939edfe"
          }
        },
        "8062840158a54d0dae35dd79175d63a8": {
          "model_module": "@jupyter-widgets/controls",
          "model_name": "HTMLModel",
          "model_module_version": "1.5.0",
          "state": {
            "_view_name": "HTMLView",
            "style": "IPY_MODEL_8bfca4c05ef14aebbf8cecf424e9adac",
            "_dom_classes": [],
            "description": "",
            "_model_name": "HTMLModel",
            "placeholder": "​",
            "_view_module": "@jupyter-widgets/controls",
            "_model_module_version": "1.5.0",
            "value": " 112k/112k [00:00&lt;00:00, 507kB/s]",
            "_view_count": null,
            "_view_module_version": "1.5.0",
            "description_tooltip": null,
            "_model_module": "@jupyter-widgets/controls",
            "layout": "IPY_MODEL_4e94fa0f8a4540c48d891408b8f58c1e"
          }
        },
        "f7076829c8374e9caf55f37e0020efcf": {
          "model_module": "@jupyter-widgets/controls",
          "model_name": "DescriptionStyleModel",
          "model_module_version": "1.5.0",
          "state": {
            "_view_name": "StyleView",
            "_model_name": "DescriptionStyleModel",
            "description_width": "",
            "_view_module": "@jupyter-widgets/base",
            "_model_module_version": "1.5.0",
            "_view_count": null,
            "_view_module_version": "1.2.0",
            "_model_module": "@jupyter-widgets/controls"
          }
        },
        "c51dc9b1056a4ce0994e6c95fefddaad": {
          "model_module": "@jupyter-widgets/base",
          "model_name": "LayoutModel",
          "model_module_version": "1.2.0",
          "state": {
            "_view_name": "LayoutView",
            "grid_template_rows": null,
            "right": null,
            "justify_content": null,
            "_view_module": "@jupyter-widgets/base",
            "overflow": null,
            "_model_module_version": "1.2.0",
            "_view_count": null,
            "flex_flow": null,
            "width": null,
            "min_width": null,
            "border": null,
            "align_items": null,
            "bottom": null,
            "_model_module": "@jupyter-widgets/base",
            "top": null,
            "grid_column": null,
            "overflow_y": null,
            "overflow_x": null,
            "grid_auto_flow": null,
            "grid_area": null,
            "grid_template_columns": null,
            "flex": null,
            "_model_name": "LayoutModel",
            "justify_items": null,
            "grid_row": null,
            "max_height": null,
            "align_content": null,
            "visibility": null,
            "align_self": null,
            "height": null,
            "min_height": null,
            "padding": null,
            "grid_auto_rows": null,
            "grid_gap": null,
            "max_width": null,
            "order": null,
            "_view_module_version": "1.2.0",
            "grid_template_areas": null,
            "object_position": null,
            "object_fit": null,
            "grid_auto_columns": null,
            "margin": null,
            "display": null,
            "left": null
          }
        },
        "e74310e3cff74729aa6086e1e4ad7b15": {
          "model_module": "@jupyter-widgets/controls",
          "model_name": "ProgressStyleModel",
          "model_module_version": "1.5.0",
          "state": {
            "_view_name": "StyleView",
            "_model_name": "ProgressStyleModel",
            "description_width": "",
            "_view_module": "@jupyter-widgets/base",
            "_model_module_version": "1.5.0",
            "_view_count": null,
            "_view_module_version": "1.2.0",
            "bar_color": null,
            "_model_module": "@jupyter-widgets/controls"
          }
        },
        "726092354f4a40c8972f565c9939edfe": {
          "model_module": "@jupyter-widgets/base",
          "model_name": "LayoutModel",
          "model_module_version": "1.2.0",
          "state": {
            "_view_name": "LayoutView",
            "grid_template_rows": null,
            "right": null,
            "justify_content": null,
            "_view_module": "@jupyter-widgets/base",
            "overflow": null,
            "_model_module_version": "1.2.0",
            "_view_count": null,
            "flex_flow": null,
            "width": null,
            "min_width": null,
            "border": null,
            "align_items": null,
            "bottom": null,
            "_model_module": "@jupyter-widgets/base",
            "top": null,
            "grid_column": null,
            "overflow_y": null,
            "overflow_x": null,
            "grid_auto_flow": null,
            "grid_area": null,
            "grid_template_columns": null,
            "flex": null,
            "_model_name": "LayoutModel",
            "justify_items": null,
            "grid_row": null,
            "max_height": null,
            "align_content": null,
            "visibility": null,
            "align_self": null,
            "height": null,
            "min_height": null,
            "padding": null,
            "grid_auto_rows": null,
            "grid_gap": null,
            "max_width": null,
            "order": null,
            "_view_module_version": "1.2.0",
            "grid_template_areas": null,
            "object_position": null,
            "object_fit": null,
            "grid_auto_columns": null,
            "margin": null,
            "display": null,
            "left": null
          }
        },
        "8bfca4c05ef14aebbf8cecf424e9adac": {
          "model_module": "@jupyter-widgets/controls",
          "model_name": "DescriptionStyleModel",
          "model_module_version": "1.5.0",
          "state": {
            "_view_name": "StyleView",
            "_model_name": "DescriptionStyleModel",
            "description_width": "",
            "_view_module": "@jupyter-widgets/base",
            "_model_module_version": "1.5.0",
            "_view_count": null,
            "_view_module_version": "1.2.0",
            "_model_module": "@jupyter-widgets/controls"
          }
        },
        "4e94fa0f8a4540c48d891408b8f58c1e": {
          "model_module": "@jupyter-widgets/base",
          "model_name": "LayoutModel",
          "model_module_version": "1.2.0",
          "state": {
            "_view_name": "LayoutView",
            "grid_template_rows": null,
            "right": null,
            "justify_content": null,
            "_view_module": "@jupyter-widgets/base",
            "overflow": null,
            "_model_module_version": "1.2.0",
            "_view_count": null,
            "flex_flow": null,
            "width": null,
            "min_width": null,
            "border": null,
            "align_items": null,
            "bottom": null,
            "_model_module": "@jupyter-widgets/base",
            "top": null,
            "grid_column": null,
            "overflow_y": null,
            "overflow_x": null,
            "grid_auto_flow": null,
            "grid_area": null,
            "grid_template_columns": null,
            "flex": null,
            "_model_name": "LayoutModel",
            "justify_items": null,
            "grid_row": null,
            "max_height": null,
            "align_content": null,
            "visibility": null,
            "align_self": null,
            "height": null,
            "min_height": null,
            "padding": null,
            "grid_auto_rows": null,
            "grid_gap": null,
            "max_width": null,
            "order": null,
            "_view_module_version": "1.2.0",
            "grid_template_areas": null,
            "object_position": null,
            "object_fit": null,
            "grid_auto_columns": null,
            "margin": null,
            "display": null,
            "left": null
          }
        }
      }
    }
  },
  "cells": [
    {
      "cell_type": "markdown",
      "metadata": {
        "id": "cNGP_mje3T7x"
      },
      "source": [
        "## This notebook is a description of how you can use the soraberta. \n"
      ]
    },
    {
      "cell_type": "code",
      "metadata": {
        "colab": {
          "base_uri": "https://localhost:8080/"
        },
        "id": "AIew-jk2KrJ_",
        "outputId": "69a33765-c157-424d-b323-ff2f705a7f4e"
      },
      "source": [
        "!pip install -q transformers  #lets install the huggingface liberary "
      ],
      "execution_count": 1,
      "outputs": [
        {
          "output_type": "stream",
          "name": "stdout",
          "text": [
            "\u001b[K     |████████████████████████████████| 2.8 MB 12.8 MB/s \n",
            "\u001b[K     |████████████████████████████████| 52 kB 1.3 MB/s \n",
            "\u001b[K     |████████████████████████████████| 636 kB 43.0 MB/s \n",
            "\u001b[K     |████████████████████████████████| 3.3 MB 49.4 MB/s \n",
            "\u001b[K     |████████████████████████████████| 895 kB 38.1 MB/s \n",
            "\u001b[?25h"
          ]
        }
      ]
    },
    {
      "cell_type": "markdown",
      "metadata": {
        "id": "g9kj2vfD4XYW"
      },
      "source": [
        "## Import the pipeline from  huggingface . the pipeline are a great and easy way to use models for inference. "
      ]
    },
    {
      "cell_type": "code",
      "metadata": {
        "id": "13GtvoAuKxjt"
      },
      "source": [
        "from transformers import pipeline  \n"
      ],
      "execution_count": 2,
      "outputs": []
    },
    {
      "cell_type": "markdown",
      "metadata": {
        "id": "aShEStJk5b4X"
      },
      "source": [
        "## We specialize in the task at hand . In our case, it is the fill mask and the template name that will be used. The fill mask consists of masking an arbitrarily chosen word with the <mask> token and the model must predict the word that should be in place of the mask. "
      ]
    },
    {
      "cell_type": "code",
      "metadata": {
        "colab": {
          "base_uri": "https://localhost:8080/",
          "height": 145,
          "referenced_widgets": [
            "79bb688e0f01485ab672242965c70c47",
            "9a02211d82994fb29fd2feeccbf1d389",
            "5b1a3d413a9940e9ab10dbe9eff6e29a",
            "b7318055ec594d3a8817e4dfbf00b549",
            "de7ffa97941c47efad30c9a14842d2d5",
            "adfd9d4b90784aae9f6ff5364a04ef59",
            "06d26ac2d936417d8e3e91d2e3a5a073",
            "d0d1f60b00a544c69d368177da3198cd",
            "03a8fa59e02d4d128f0966c2d02b916c",
            "c47cf72c968b45d3911da8ffc7dc8a76",
            "83438b687c0443c5897b05eb03a79195",
            "18e5cfbba59644788b628ff10c3d0684",
            "db53e35438594880b2dbeed4efc39b37",
            "b2de1c5d8de643d78b49306264d69c96",
            "16ff2d9fc0f84e6dbf707df646822f46",
            "300d0ffd16904654bee4d777fe951a7d",
            "8680146ab3f3480a8dcf0dc7e61c3922",
            "8660a4c881c44517b0e0565979e42ef6",
            "a205f8639c2b4881a466dd3bf7d2e990",
            "513f1f2a061e4dc297618b2f2055897a",
            "1575d2073335460b8a480a40be8e6593",
            "4a70c08d7c9042a8a92c94dd86bb8fce",
            "b5e88005bc9a4592ac27951f603f4077",
            "d572778157174d5fbe33a0f81e4811fc",
            "84dd45960f604e469950be4ede82b8a9",
            "029a4a29a02447d7a36f65e0144fdc5b",
            "ecbf641807374afc8dbd082908f4cdf8",
            "e5cec58ba78b4dcd92b1c145c93c7527",
            "baf2d68e46f74cf98098fbffff358608",
            "c3eac164001645bc9e227b483467557f",
            "0726e2de754f4fb19a14af7dae95615a",
            "190756a209e047608f33de2de401aad9",
            "926a3e2e646547a5bc5392a2041a6ac2",
            "48b27e50648e42cfadbcc8dce3d882f4",
            "f693f0ed045142449d6a27621b342727",
            "a194e730d7ae4c4fa9550d90d21aa280",
            "8912887509db48a0b3787685719a2a8f",
            "8062840158a54d0dae35dd79175d63a8",
            "f7076829c8374e9caf55f37e0020efcf",
            "c51dc9b1056a4ce0994e6c95fefddaad",
            "e74310e3cff74729aa6086e1e4ad7b15",
            "726092354f4a40c8972f565c9939edfe",
            "8bfca4c05ef14aebbf8cecf424e9adac",
            "4e94fa0f8a4540c48d891408b8f58c1e"
          ]
        },
        "id": "dWjkH7NnLXun",
        "outputId": "a78df214-485a-44c4-c31f-85c1f87bcc66"
      },
      "source": [
        "unmasker = pipeline('fill-mask', model='abdouaziiz/soraberta')\n"
      ],
      "execution_count": 3,
      "outputs": [
        {
          "output_type": "display_data",
          "data": {
            "application/vnd.jupyter.widget-view+json": {
              "model_id": "79bb688e0f01485ab672242965c70c47",
              "version_minor": 0,
              "version_major": 2
            },
            "text/plain": [
              "Downloading:   0%|          | 0.00/676 [00:00<?, ?B/s]"
            ]
          },
          "metadata": {}
        },
        {
          "output_type": "display_data",
          "data": {
            "application/vnd.jupyter.widget-view+json": {
              "model_id": "18e5cfbba59644788b628ff10c3d0684",
              "version_minor": 0,
              "version_major": 2
            },
            "text/plain": [
              "Downloading:   0%|          | 0.00/334M [00:00<?, ?B/s]"
            ]
          },
          "metadata": {}
        },
        {
          "output_type": "display_data",
          "data": {
            "application/vnd.jupyter.widget-view+json": {
              "model_id": "b5e88005bc9a4592ac27951f603f4077",
              "version_minor": 0,
              "version_major": 2
            },
            "text/plain": [
              "Downloading:   0%|          | 0.00/192k [00:00<?, ?B/s]"
            ]
          },
          "metadata": {}
        },
        {
          "output_type": "display_data",
          "data": {
            "application/vnd.jupyter.widget-view+json": {
              "model_id": "48b27e50648e42cfadbcc8dce3d882f4",
              "version_minor": 0,
              "version_major": 2
            },
            "text/plain": [
              "Downloading:   0%|          | 0.00/112k [00:00<?, ?B/s]"
            ]
          },
          "metadata": {}
        }
      ]
    },
    {
      "cell_type": "code",
      "metadata": {
        "colab": {
          "base_uri": "https://localhost:8080/"
        },
        "id": "HedazspPLa6b",
        "outputId": "f2915b1c-e9b0-4de2-8326-0684a687fca9"
      },
      "source": [
        "unmasker(\"juroom naari jullit man nanoo boole jend aw nag walla <mask>.\")\n"
      ],
      "execution_count": 4,
      "outputs": [
        {
          "output_type": "execute_result",
          "data": {
            "text/plain": [
              "[{'score': 0.9785267114639282,\n",
              "  'sequence': 'juroom naari jullit man nanoo boole jend aw nag walla gileem.',\n",
              "  'token': 4621,\n",
              "  'token_str': ' gileem'},\n",
              " {'score': 0.009154203347861767,\n",
              "  'sequence': 'juroom naari jullit man nanoo boole jend aw nag walla jend.',\n",
              "  'token': 2155,\n",
              "  'token_str': ' jend'},\n",
              " {'score': 0.0028022238984704018,\n",
              "  'sequence': 'juroom naari jullit man nanoo boole jend aw nag walla aw.',\n",
              "  'token': 704,\n",
              "  'token_str': ' aw'},\n",
              " {'score': 0.0010274219093844295,\n",
              "  'sequence': 'juroom naari jullit man nanoo boole jend aw nag walla pel.',\n",
              "  'token': 1171,\n",
              "  'token_str': ' pel'},\n",
              " {'score': 0.0005228584632277489,\n",
              "  'sequence': 'juroom naari jullit man nanoo boole jend aw nag walla juum.',\n",
              "  'token': 5820,\n",
              "  'token_str': ' juum'}]"
            ]
          },
          "metadata": {},
          "execution_count": 4
        }
      ]
    },
    {
      "cell_type": "markdown",
      "metadata": {
        "id": "OZHk4oV38pUx"
      },
      "source": [
        "## Tokenization is an essential task in natural language processing used to break up a string of words into semantically useful units called tokens. \n",
        "\n",
        "*   import the AutoTokenizer from HuggingFace\n",
        "*   This is a generic tokenizer class that will be instantiated as one of the tokenizer classes of the library when created with the AutoTokenizer.from_pretrained() class method.\n",
        "\n"
      ]
    },
    {
      "cell_type": "code",
      "metadata": {
        "id": "_4nUCf9vuzEE"
      },
      "source": [
        "from transformers import AutoTokenizer"
      ],
      "execution_count": 5,
      "outputs": []
    },
    {
      "cell_type": "code",
      "metadata": {
        "id": "qqj8SRwYuy7-"
      },
      "source": [
        "# Introduce the tokenizer with the name of the model, in this case it will be abdouaziiz/soraberta.\n",
        "tokenizer = AutoTokenizer.from_pretrained('abdouaziiz/soraberta')"
      ],
      "execution_count": 6,
      "outputs": []
    },
    {
      "cell_type": "code",
      "metadata": {
        "id": "b2bGHd-AvGNT"
      },
      "source": [
        "text= \"juroom naari jullit man nanoo boole jend aw nag walla \"  # the text to encode "
      ],
      "execution_count": 7,
      "outputs": []
    },
    {
      "cell_type": "code",
      "metadata": {
        "id": "vTWqDtY2vBFN"
      },
      "source": [
        "text_encoded = tokenizer.encode_plus(text , \n",
        "                                return_tensors='pt')"
      ],
      "execution_count": 8,
      "outputs": []
    },
    {
      "cell_type": "code",
      "metadata": {
        "colab": {
          "base_uri": "https://localhost:8080/"
        },
        "id": "J2bDm0b5_HQy",
        "outputId": "37927e03-aa98-44f3-e93e-a2f83a83da0f"
      },
      "source": [
        "text_encoded"
      ],
      "execution_count": 9,
      "outputs": [
        {
          "output_type": "execute_result",
          "data": {
            "text/plain": [
              "{'input_ids': tensor([[   0, 5547,  623,  694,  390, 1412,  894, 2155,  704,  392,  502,  225,\n",
              "            2]]), 'attention_mask': tensor([[1, 1, 1, 1, 1, 1, 1, 1, 1, 1, 1, 1, 1]])}"
            ]
          },
          "metadata": {},
          "execution_count": 9
        }
      ]
    },
    {
      "cell_type": "code",
      "metadata": {
        "colab": {
          "base_uri": "https://localhost:8080/"
        },
        "id": "r5yi9uSZvNvY",
        "outputId": "a3fccb26-ee6b-4353-d891-74e0590f834f"
      },
      "source": [
        "text_encoded[\"input_ids\"]  # the text encoding "
      ],
      "execution_count": 10,
      "outputs": [
        {
          "output_type": "execute_result",
          "data": {
            "text/plain": [
              "tensor([[   0, 5547,  623,  694,  390, 1412,  894, 2155,  704,  392,  502,  225,\n",
              "            2]])"
            ]
          },
          "metadata": {},
          "execution_count": 10
        }
      ]
    },
    {
      "cell_type": "code",
      "metadata": {
        "id": "tpJF8Xy9vT6Q"
      },
      "source": [
        "decode_text = \" \".join(tokenizer.decode(i.item()) for i in text_encoded[\"input_ids\"].flatten())  # A simple way to decode the token to the text original"
      ],
      "execution_count": 11,
      "outputs": []
    },
    {
      "cell_type": "code",
      "metadata": {
        "colab": {
          "base_uri": "https://localhost:8080/",
          "height": 35
        },
        "id": "EV7NKDaBv_BP",
        "outputId": "61390929-ca49-407e-bdcd-bd8eff4b3d78"
      },
      "source": [
        "decode_text   "
      ],
      "execution_count": 12,
      "outputs": [
        {
          "output_type": "execute_result",
          "data": {
            "application/vnd.google.colaboratory.intrinsic+json": {
              "type": "string"
            },
            "text/plain": [
              "'<s> juroom  naari  jullit  man  nanoo  boole  jend  aw  nag  walla   </s>'"
            ]
          },
          "metadata": {},
          "execution_count": 12
        }
      ]
    },
    {
      "cell_type": "markdown",
      "metadata": {
        "id": "GH5OXyIsA9vI"
      },
      "source": [
        "### Use the Model"
      ]
    },
    {
      "cell_type": "code",
      "metadata": {
        "id": "AsehNE7BLgRo"
      },
      "source": [
        "from transformers import AutoConfig, AutoModel\n",
        "# Download configuration from huggingface.co and cache.\n",
        "config = AutoConfig.from_pretrained('abdouaziiz/soraberta')"
      ],
      "execution_count": 13,
      "outputs": []
    },
    {
      "cell_type": "code",
      "metadata": {
        "id": "5M5K8lCwwb6v"
      },
      "source": [
        "model = AutoModel.from_config(config)"
      ],
      "execution_count": 14,
      "outputs": []
    },
    {
      "cell_type": "code",
      "metadata": {
        "id": "WD5ByuNZBGoO"
      },
      "source": [
        "ids = text_encoded[\"input_ids\"]\n",
        "mask = text_encoded[\"attention_mask\"]"
      ],
      "execution_count": 15,
      "outputs": []
    },
    {
      "cell_type": "code",
      "metadata": {
        "id": "De2zj9pAwczc"
      },
      "source": [
        "outut = model(ids , mask)"
      ],
      "execution_count": 16,
      "outputs": []
    },
    {
      "cell_type": "code",
      "metadata": {
        "colab": {
          "base_uri": "https://localhost:8080/"
        },
        "id": "uL4ZjDkkwmOp",
        "outputId": "d814ed13-1a40-4ee9-e1ac-c4624046dcc9"
      },
      "source": [
        "outut"
      ],
      "execution_count": 17,
      "outputs": [
        {
          "output_type": "execute_result",
          "data": {
            "text/plain": [
              "BaseModelOutputWithPoolingAndCrossAttentions([('last_hidden_state',\n",
              "                                               tensor([[[-0.8085,  1.7774,  0.7821,  ..., -0.3124, -1.6087,  0.7636],\n",
              "                                                        [-0.1598,  2.5424,  0.4493,  ...,  1.2420,  0.0758,  0.5907],\n",
              "                                                        [-1.1785,  3.5558, -0.1567,  ..., -0.5016,  0.3329,  1.3283],\n",
              "                                                        ...,\n",
              "                                                        [-1.9481,  2.9195,  0.5745,  ...,  1.4593, -0.8427,  0.9266],\n",
              "                                                        [-0.1577,  2.2856, -1.3407,  ...,  0.2362, -1.3839,  0.6557],\n",
              "                                                        [-0.8987,  0.8281, -1.0878,  ...,  0.8771, -0.3006,  1.0715]]],\n",
              "                                                      grad_fn=<NativeLayerNormBackward>)),\n",
              "                                              ('pooler_output',\n",
              "                                               tensor([[-0.4953,  0.1284, -0.5360, -0.0527,  0.0572, -0.2425,  0.1674,  0.2463,\n",
              "                                                         0.3606,  0.5941, -0.1353,  0.0641, -0.1256,  0.3335,  0.0725, -0.1856,\n",
              "                                                         0.0934,  0.1064, -0.1059, -0.0520,  0.6318, -0.6722,  0.4572, -0.1718,\n",
              "                                                        -0.5926,  0.0481,  0.7843, -0.5740,  0.5986,  0.3325,  0.1562, -0.4034,\n",
              "                                                        -0.2892, -0.6157, -0.1985,  0.0035,  0.1450, -0.2396,  0.7685,  0.5013,\n",
              "                                                         0.6130,  0.3887,  0.4131,  0.1410, -0.4166, -0.2861,  0.4094,  0.5215,\n",
              "                                                        -0.0371, -0.0216,  0.2323, -0.5067, -0.4812,  0.4195,  0.2442, -0.1891,\n",
              "                                                         0.8130,  0.0968,  0.8846,  0.9518,  0.2595,  0.1637, -0.0724, -0.8562,\n",
              "                                                         0.6002, -0.7155,  0.4132,  0.0802, -0.0690,  0.1357,  0.3776, -0.5290,\n",
              "                                                        -0.4205,  0.2219,  0.0114, -0.7708,  0.0870,  0.3182, -0.1681, -0.1773,\n",
              "                                                        -0.1203, -0.1288,  0.5752,  0.2095, -0.4091, -0.3027,  0.5852, -0.6653,\n",
              "                                                        -0.5667, -0.3861, -0.5722,  0.0359, -0.6360, -0.3415, -0.1343,  0.0933,\n",
              "                                                         0.1529, -0.6288, -0.3730,  0.4360,  0.4188, -0.1945, -0.6275, -0.1162,\n",
              "                                                         0.5362,  0.2449,  0.7108,  0.5346,  0.6031,  0.0506,  0.5048,  0.1716,\n",
              "                                                        -0.0696,  0.6849, -0.0133, -0.2853, -0.0667,  0.2190, -0.0960, -0.8927,\n",
              "                                                         0.5233, -0.3297, -0.0939,  0.5558, -0.6291, -0.5177,  0.7508, -0.6605,\n",
              "                                                        -0.0847, -0.0104,  0.3092,  0.0870, -0.3788, -0.6825, -0.4974,  0.5166,\n",
              "                                                         0.5848,  0.5771, -0.0901,  0.2828,  0.2471, -0.5435, -0.3554, -0.2953,\n",
              "                                                         0.0089, -0.3075, -0.1288, -0.4677,  0.0597, -0.3300, -0.3405, -0.1337,\n",
              "                                                         0.4107,  0.1226, -0.5373, -0.2223,  0.0931, -0.3526, -0.1163, -0.0010,\n",
              "                                                         0.2149,  0.2838,  0.5827,  0.4516,  0.1248, -0.4186, -0.4526,  0.3933,\n",
              "                                                         0.7073, -0.3445, -0.3295,  0.4089, -0.1409, -0.4936, -0.2664,  0.2638,\n",
              "                                                         0.2626, -0.0916,  0.5922,  0.5660,  0.2531, -0.4164,  0.2213, -0.2972,\n",
              "                                                        -0.7585, -0.4120,  0.2246, -0.4595,  0.5449,  0.3966, -0.2946,  0.6106,\n",
              "                                                        -0.4493,  0.5602,  0.0384, -0.0779,  0.6618,  0.3265, -0.2495,  0.4172,\n",
              "                                                        -0.0940,  0.3954, -0.9411,  0.5626, -0.0035, -0.5533, -0.4929,  0.3956,\n",
              "                                                         0.1127, -0.3861, -0.5083, -0.5596,  0.7511, -0.1626, -0.3232,  0.1125,\n",
              "                                                        -0.2173,  0.5213, -0.2636, -0.6680,  0.6773,  0.1329, -0.0493, -0.5819,\n",
              "                                                        -0.4204, -0.6436,  0.5030, -0.5902, -0.1938, -0.1263,  0.0083,  0.0109,\n",
              "                                                        -0.3202,  0.1621, -0.2464,  0.0092, -0.1875,  0.1974, -0.5812,  0.4140,\n",
              "                                                         0.1965, -0.0390,  0.3129,  0.1821, -0.3053, -0.7379, -0.2283,  0.1679,\n",
              "                                                         0.2733,  0.1831, -0.4324,  0.2611, -0.1023, -0.2531, -0.6133, -0.3571,\n",
              "                                                        -0.3659, -0.5992, -0.5077, -0.4225,  0.4010,  0.1295, -0.0182,  0.5279,\n",
              "                                                        -0.7238,  0.6803,  0.7767,  0.4907,  0.2569, -0.3419, -0.1007, -0.5279,\n",
              "                                                         0.6118, -0.2392, -0.8373,  0.0633, -0.0442,  0.1507, -0.2895, -0.3988,\n",
              "                                                        -0.3164, -0.6180,  0.5997, -0.4269, -0.3589, -0.0881, -0.7616,  0.3639,\n",
              "                                                        -0.1711, -0.7876,  0.2391,  0.8046,  0.0775, -0.7152, -0.1130, -0.4827,\n",
              "                                                        -0.4951, -0.3624,  0.1782, -0.5354, -0.2118,  0.1644, -0.4433, -0.0885,\n",
              "                                                        -0.6965, -0.7428, -0.4550, -0.4704, -0.8722,  0.0221,  0.1260, -0.3459,\n",
              "                                                        -0.5174,  0.1992, -0.2495,  0.1554, -0.2221, -0.0053,  0.6951, -0.2713,\n",
              "                                                         0.1625, -0.4307,  0.5473,  0.0113,  0.0843, -0.1332,  0.1054,  0.5680,\n",
              "                                                         0.6747, -0.5276, -0.4570,  0.7051,  0.4221, -0.1168, -0.7467,  0.1403,\n",
              "                                                        -0.1173, -0.5373,  0.0056,  0.8438, -0.3889, -0.0035,  0.1754,  0.1663,\n",
              "                                                         0.7886, -0.1621,  0.2445,  0.3445, -0.6141, -0.7622,  0.4090,  0.2877,\n",
              "                                                         0.6100,  0.2990, -0.5818, -0.7139, -0.7016,  0.2112,  0.1371,  0.9030,\n",
              "                                                         0.5501, -0.4572,  0.0689, -0.6171,  0.0865,  0.7714,  0.7718,  0.1766,\n",
              "                                                         0.2899,  0.0682,  0.4572,  0.0640, -0.2256,  0.5071, -0.2473,  0.4176,\n",
              "                                                         0.7621, -0.0339, -0.3847, -0.6660, -0.5821, -0.5700, -0.5139,  0.5936,\n",
              "                                                         0.2523, -0.5787, -0.7002,  0.6921, -0.2470,  0.1221,  0.4757, -0.4821,\n",
              "                                                        -0.4671, -0.0944,  0.5605, -0.4622,  0.5149,  0.2901,  0.5367,  0.4847,\n",
              "                                                         0.0014, -0.0036,  0.0148, -0.0054, -0.5826,  0.9757, -0.3661,  0.0238,\n",
              "                                                        -0.2907,  0.6347, -0.3904, -0.1534,  0.4023,  0.9041, -0.7408,  0.6245,\n",
              "                                                         0.6000,  0.3856,  0.1673,  0.0281,  0.7197, -0.5205, -0.4330,  0.2416,\n",
              "                                                         0.0187, -0.5488, -0.4404,  0.2894, -0.5370, -0.2406, -0.7700,  0.1689,\n",
              "                                                        -0.4148,  0.4723,  0.6300, -0.1195, -0.6948,  0.4896,  0.0109, -0.7175,\n",
              "                                                         0.6710,  0.5912,  0.2011,  0.5954, -0.4917, -0.7475,  0.1561,  0.3209,\n",
              "                                                        -0.1099, -0.4108, -0.5255, -0.5380, -0.5056,  0.6533,  0.5863, -0.1075,\n",
              "                                                         0.6886,  0.6394,  0.3699, -0.6437,  0.6671, -0.2591, -0.6812, -0.0056,\n",
              "                                                        -0.2894,  0.6442, -0.2553, -0.1310, -0.4041, -0.6334, -0.0102,  0.2364,\n",
              "                                                        -0.6610,  0.8869,  0.3957, -0.0778,  0.6563,  0.3396, -0.6416,  0.6123,\n",
              "                                                         0.5394,  0.3307,  0.5140,  0.3397,  0.7511,  0.5046,  0.2508, -0.0874,\n",
              "                                                         0.3221,  0.5994,  0.4156,  0.2099,  0.8667, -0.3789, -0.4819,  0.2841,\n",
              "                                                         0.8077, -0.9252, -0.2680, -0.7576,  0.4137,  0.4003, -0.7970, -0.8805,\n",
              "                                                        -0.5117,  0.1548,  0.6868,  0.1293,  0.6418, -0.0431,  0.5343,  0.5097,\n",
              "                                                         0.5908,  0.6754,  0.5369, -0.0867, -0.2544, -0.4505,  0.3737, -0.4084,\n",
              "                                                         0.5955, -0.4596, -0.1961, -0.8669, -0.5776,  0.3515,  0.0605,  0.4574,\n",
              "                                                         0.1903,  0.1409, -0.2995, -0.1597, -0.2642,  0.1738,  0.0395,  0.1396,\n",
              "                                                         0.5737,  0.0861,  0.6102,  0.3681,  0.2082, -0.7581,  0.2817,  0.3615,\n",
              "                                                         0.0772, -0.1125,  0.5347,  0.4147,  0.2156, -0.4933, -0.3813, -0.1611,\n",
              "                                                         0.3769,  0.5316,  0.6844, -0.1445,  0.6947,  0.8912,  0.1026,  0.0480,\n",
              "                                                        -0.1772,  0.5552,  0.1717, -0.3758,  0.5393,  0.0426,  0.0670,  0.1645,\n",
              "                                                         0.4503,  0.3704, -0.4925, -0.2701, -0.7913, -0.1846,  0.4922,  0.3563,\n",
              "                                                        -0.2176, -0.1177, -0.0597,  0.3024, -0.4657, -0.3592,  0.3270,  0.2331,\n",
              "                                                         0.0941,  0.3686, -0.2830, -0.1361, -0.2463, -0.4413,  0.6101, -0.3806,\n",
              "                                                         0.3275, -0.2558,  0.8548, -0.0214, -0.2465, -0.3121,  0.1139,  0.1680,\n",
              "                                                         0.0320, -0.6577,  0.6675, -0.6235,  0.0136, -0.7795, -0.2006, -0.0779,\n",
              "                                                         0.8818, -0.7429, -0.1282,  0.6028, -0.2889,  0.4993,  0.2070, -0.2966,\n",
              "                                                        -0.4249,  0.1752,  0.7075,  0.6186, -0.2318, -0.7612, -0.4207, -0.4753,\n",
              "                                                         0.6788, -0.4796,  0.4192, -0.0363,  0.7022, -0.5836, -0.0356,  0.2790,\n",
              "                                                        -0.3613,  0.0186, -0.4600,  0.5444, -0.1939, -0.2063, -0.4323,  0.2860,\n",
              "                                                        -0.1732,  0.2162, -0.3054, -0.7640,  0.1989, -0.5368, -0.7212, -0.3275,\n",
              "                                                         0.5408,  0.5617,  0.2222,  0.2047, -0.6871, -0.6291,  0.6923, -0.2210,\n",
              "                                                         0.5286, -0.5494,  0.1498, -0.3746, -0.7679, -0.0831, -0.7124,  0.0633,\n",
              "                                                        -0.0266,  0.5856,  0.0045,  0.7166, -0.3193,  0.7442, -0.0955,  0.1459,\n",
              "                                                        -0.4363,  0.0901,  0.3693,  0.4910, -0.6357, -0.3470, -0.0297, -0.2424,\n",
              "                                                        -0.4579, -0.7062,  0.4500, -0.1947,  0.5592,  0.0853,  0.2415,  0.4161,\n",
              "                                                        -0.3498, -0.5502, -0.5443,  0.4620, -0.0690,  0.4946, -0.5171, -0.5749,\n",
              "                                                         0.0362, -0.0685, -0.4688, -0.3209, -0.7806, -0.4828, -0.5100, -0.3024,\n",
              "                                                         0.4590, -0.1744,  0.0775,  0.1703, -0.5634, -0.1901, -0.3467,  0.5835,\n",
              "                                                         0.0256, -0.0718, -0.5178, -0.6986,  0.1209, -0.1357,  0.6842,  0.4433,\n",
              "                                                        -0.1989,  0.3045,  0.5967, -0.6218, -0.1794, -0.2948, -0.0873,  0.0976,\n",
              "                                                        -0.7241, -0.7841,  0.0080,  0.8039, -0.5664,  0.6626,  0.0360,  0.5179,\n",
              "                                                        -0.0335, -0.1340, -0.1296, -0.4717,  0.2492, -0.2007,  0.2617, -0.2665,\n",
              "                                                        -0.4180, -0.4312,  0.4108,  0.3917, -0.3070,  0.1855, -0.1373,  0.5356,\n",
              "                                                         0.0389,  0.3303, -0.7951,  0.2149,  0.6929,  0.4186,  0.0213, -0.4286,\n",
              "                                                         0.2162, -0.8553, -0.6961,  0.8592, -0.0349,  0.6352,  0.2064, -0.2905]],\n",
              "                                                      grad_fn=<TanhBackward>))])"
            ]
          },
          "metadata": {},
          "execution_count": 17
        }
      ]
    },
    {
      "cell_type": "code",
      "metadata": {
        "id": "8FIgD_N9wsdN"
      },
      "source": [
        ""
      ],
      "execution_count": 17,
      "outputs": []
    }
  ]
}